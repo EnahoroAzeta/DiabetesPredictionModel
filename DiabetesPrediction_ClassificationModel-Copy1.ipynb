{
 "cells": [
  {
   "cell_type": "code",
   "execution_count": 1,
   "id": "7de1a7e6",
   "metadata": {},
   "outputs": [],
   "source": [
    "#Numpy deals with large arrays and linear algebra\n",
    "import numpy as np\n",
    "\n",
    "import pandas as pd \n",
    " \n",
    "# Metrics for Evaluation of model Accuracy and F1-score\n",
    "from sklearn.metrics  import f1_score,accuracy_score\n",
    " \n",
    "#Importing the Decision Tree from scikit-learn library\n",
    "from sklearn.tree import DecisionTreeClassifier\n",
    "\n",
    "#Importing the Gradient Descent Classifier from scikit-learn library\n",
    "from sklearn.linear_model import SGDClassifier\n",
    "\n",
    "#Importing the KNN from scikit-learn library\n",
    "from sklearn.neighbors import KNeighborsClassifier\n",
    " \n",
    "# For splitting of data into train and test set\n",
    "from sklearn.model_selection import train_test_split\n",
    "\n",
    "\n",
    "filePath = '/Users/apple/Documents/Kaggle/ClassificationModel/diabetes.csv'\n",
    "filePath2 = '/Users/apple/Documents/Kaggle/ClassificationModel/insurance3r2.csv'\n",
    "\n",
    "diabetes_df = pd.read_csv(filePath)\n",
    "X = diabetes_df\n",
    "y = X.pop('Outcome')\n",
    "\n",
    "\n",
    "# Split dataset\n",
    "X_train, X_valid, y_train, y_valid = train_test_split(X, y, train_size=0.8, test_size=0.2, random_state=0)\n"
   ]
  },
  {
   "cell_type": "code",
   "execution_count": 2,
   "id": "c842fc96",
   "metadata": {
    "scrolled": true
   },
   "outputs": [
    {
     "data": {
      "text/html": [
       "<div>\n",
       "<style scoped>\n",
       "    .dataframe tbody tr th:only-of-type {\n",
       "        vertical-align: middle;\n",
       "    }\n",
       "\n",
       "    .dataframe tbody tr th {\n",
       "        vertical-align: top;\n",
       "    }\n",
       "\n",
       "    .dataframe thead th {\n",
       "        text-align: right;\n",
       "    }\n",
       "</style>\n",
       "<table border=\"1\" class=\"dataframe\">\n",
       "  <thead>\n",
       "    <tr style=\"text-align: right;\">\n",
       "      <th></th>\n",
       "      <th>Pregnancies</th>\n",
       "      <th>Glucose</th>\n",
       "      <th>BloodPressure</th>\n",
       "      <th>SkinThickness</th>\n",
       "      <th>Insulin</th>\n",
       "      <th>BMI</th>\n",
       "      <th>DiabetesPedigreeFunction</th>\n",
       "      <th>Age</th>\n",
       "    </tr>\n",
       "  </thead>\n",
       "  <tbody>\n",
       "    <tr>\n",
       "      <th>582</th>\n",
       "      <td>12</td>\n",
       "      <td>121</td>\n",
       "      <td>78</td>\n",
       "      <td>17</td>\n",
       "      <td>0</td>\n",
       "      <td>26.5</td>\n",
       "      <td>0.259</td>\n",
       "      <td>62</td>\n",
       "    </tr>\n",
       "    <tr>\n",
       "      <th>159</th>\n",
       "      <td>17</td>\n",
       "      <td>163</td>\n",
       "      <td>72</td>\n",
       "      <td>41</td>\n",
       "      <td>114</td>\n",
       "      <td>40.9</td>\n",
       "      <td>0.817</td>\n",
       "      <td>47</td>\n",
       "    </tr>\n",
       "    <tr>\n",
       "      <th>1827</th>\n",
       "      <td>1</td>\n",
       "      <td>102</td>\n",
       "      <td>74</td>\n",
       "      <td>0</td>\n",
       "      <td>0</td>\n",
       "      <td>39.5</td>\n",
       "      <td>0.293</td>\n",
       "      <td>42</td>\n",
       "    </tr>\n",
       "    <tr>\n",
       "      <th>318</th>\n",
       "      <td>3</td>\n",
       "      <td>115</td>\n",
       "      <td>66</td>\n",
       "      <td>39</td>\n",
       "      <td>140</td>\n",
       "      <td>38.1</td>\n",
       "      <td>0.150</td>\n",
       "      <td>28</td>\n",
       "    </tr>\n",
       "    <tr>\n",
       "      <th>708</th>\n",
       "      <td>9</td>\n",
       "      <td>164</td>\n",
       "      <td>78</td>\n",
       "      <td>0</td>\n",
       "      <td>0</td>\n",
       "      <td>32.8</td>\n",
       "      <td>0.148</td>\n",
       "      <td>45</td>\n",
       "    </tr>\n",
       "    <tr>\n",
       "      <th>...</th>\n",
       "      <td>...</td>\n",
       "      <td>...</td>\n",
       "      <td>...</td>\n",
       "      <td>...</td>\n",
       "      <td>...</td>\n",
       "      <td>...</td>\n",
       "      <td>...</td>\n",
       "      <td>...</td>\n",
       "    </tr>\n",
       "    <tr>\n",
       "      <th>835</th>\n",
       "      <td>5</td>\n",
       "      <td>99</td>\n",
       "      <td>54</td>\n",
       "      <td>28</td>\n",
       "      <td>83</td>\n",
       "      <td>34.0</td>\n",
       "      <td>0.499</td>\n",
       "      <td>30</td>\n",
       "    </tr>\n",
       "    <tr>\n",
       "      <th>1216</th>\n",
       "      <td>6</td>\n",
       "      <td>190</td>\n",
       "      <td>92</td>\n",
       "      <td>0</td>\n",
       "      <td>0</td>\n",
       "      <td>35.5</td>\n",
       "      <td>0.278</td>\n",
       "      <td>66</td>\n",
       "    </tr>\n",
       "    <tr>\n",
       "      <th>1653</th>\n",
       "      <td>4</td>\n",
       "      <td>95</td>\n",
       "      <td>64</td>\n",
       "      <td>0</td>\n",
       "      <td>0</td>\n",
       "      <td>32.0</td>\n",
       "      <td>0.161</td>\n",
       "      <td>31</td>\n",
       "    </tr>\n",
       "    <tr>\n",
       "      <th>559</th>\n",
       "      <td>11</td>\n",
       "      <td>85</td>\n",
       "      <td>74</td>\n",
       "      <td>0</td>\n",
       "      <td>0</td>\n",
       "      <td>30.1</td>\n",
       "      <td>0.300</td>\n",
       "      <td>35</td>\n",
       "    </tr>\n",
       "    <tr>\n",
       "      <th>684</th>\n",
       "      <td>5</td>\n",
       "      <td>136</td>\n",
       "      <td>82</td>\n",
       "      <td>0</td>\n",
       "      <td>0</td>\n",
       "      <td>0.0</td>\n",
       "      <td>0.640</td>\n",
       "      <td>69</td>\n",
       "    </tr>\n",
       "  </tbody>\n",
       "</table>\n",
       "<p>1600 rows × 8 columns</p>\n",
       "</div>"
      ],
      "text/plain": [
       "      Pregnancies  Glucose  BloodPressure  SkinThickness  Insulin   BMI  \\\n",
       "582            12      121             78             17        0  26.5   \n",
       "159            17      163             72             41      114  40.9   \n",
       "1827            1      102             74              0        0  39.5   \n",
       "318             3      115             66             39      140  38.1   \n",
       "708             9      164             78              0        0  32.8   \n",
       "...           ...      ...            ...            ...      ...   ...   \n",
       "835             5       99             54             28       83  34.0   \n",
       "1216            6      190             92              0        0  35.5   \n",
       "1653            4       95             64              0        0  32.0   \n",
       "559            11       85             74              0        0  30.1   \n",
       "684             5      136             82              0        0   0.0   \n",
       "\n",
       "      DiabetesPedigreeFunction  Age  \n",
       "582                      0.259   62  \n",
       "159                      0.817   47  \n",
       "1827                     0.293   42  \n",
       "318                      0.150   28  \n",
       "708                      0.148   45  \n",
       "...                        ...  ...  \n",
       "835                      0.499   30  \n",
       "1216                     0.278   66  \n",
       "1653                     0.161   31  \n",
       "559                      0.300   35  \n",
       "684                      0.640   69  \n",
       "\n",
       "[1600 rows x 8 columns]"
      ]
     },
     "execution_count": 2,
     "metadata": {},
     "output_type": "execute_result"
    }
   ],
   "source": [
    "X_train"
   ]
  },
  {
   "cell_type": "markdown",
   "id": "d0e67512",
   "metadata": {},
   "source": [
    "# DecisionTreeClassifier"
   ]
  },
  {
   "cell_type": "code",
   "execution_count": 3,
   "id": "78ab6a2d",
   "metadata": {},
   "outputs": [
    {
     "name": "stdout",
     "output_type": "stream",
     "text": [
      "0.9875\n",
      "0.980544747081712\n"
     ]
    }
   ],
   "source": [
    "\n",
    "model = DecisionTreeClassifier()\n",
    "model.fit(X_train,y_train)\n",
    "\n",
    "prediction = model.predict(X_valid)\n",
    "print(accuracy_score(y_valid,prediction))\n",
    "print(f1_score(y_valid,prediction))\n"
   ]
  },
  {
   "cell_type": "markdown",
   "id": "1f4575e8",
   "metadata": {},
   "source": [
    "# KNN (k-nearest neighbor)"
   ]
  },
  {
   "cell_type": "code",
   "execution_count": 4,
   "id": "e7de4e68",
   "metadata": {},
   "outputs": [
    {
     "name": "stdout",
     "output_type": "stream",
     "text": [
      "0.8025\n",
      "0.680161943319838\n"
     ]
    }
   ],
   "source": [
    "KNN_model = KNeighborsClassifier()\n",
    "KNN_model.fit(X_train,y_train)\n",
    "\n",
    "prediction = KNN_model.predict(X_valid)\n",
    "print(accuracy_score(y_valid,prediction))\n",
    "print(f1_score(y_valid,prediction))"
   ]
  },
  {
   "cell_type": "markdown",
   "id": "324fd521",
   "metadata": {},
   "source": [
    "# Gradient Descent Classifier"
   ]
  },
  {
   "cell_type": "code",
   "execution_count": 5,
   "id": "5e6ba050",
   "metadata": {},
   "outputs": [
    {
     "name": "stdout",
     "output_type": "stream",
     "text": [
      "0.465\n",
      "0.5114155251141552\n"
     ]
    }
   ],
   "source": [
    "SGDC_model = SGDClassifier()\n",
    "SGDC_model.fit(X_train,y_train)\n",
    "\n",
    "prediction = SGDC_model.predict(X_valid)\n",
    "print(accuracy_score(y_valid,prediction))\n",
    "print(f1_score(y_valid,prediction))\n"
   ]
  },
  {
   "cell_type": "code",
   "execution_count": 6,
   "id": "93af6463",
   "metadata": {},
   "outputs": [],
   "source": [
    "import pickle\n",
    "\n",
    "Pkl_Filename = \"model.pkl\"  \n",
    "\n",
    "with open(Pkl_Filename, 'wb') as file:  \n",
    "    pickle.dump(model, file)"
   ]
  }
 ],
 "metadata": {
  "kernelspec": {
   "display_name": "Python 3",
   "language": "python",
   "name": "python3"
  },
  "language_info": {
   "codemirror_mode": {
    "name": "ipython",
    "version": 3
   },
   "file_extension": ".py",
   "mimetype": "text/x-python",
   "name": "python",
   "nbconvert_exporter": "python",
   "pygments_lexer": "ipython3",
   "version": "3.9.5"
  }
 },
 "nbformat": 4,
 "nbformat_minor": 5
}
